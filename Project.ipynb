{
 "cells": [
  {
   "cell_type": "code",
   "execution_count": 1,
   "metadata": {},
   "outputs": [
    {
     "name": "stderr",
     "output_type": "stream",
     "text": [
      "C:\\Users\\jmphe\\Anaconda3\\lib\\site-packages\\tensorflow\\python\\framework\\dtypes.py:516: FutureWarning: Passing (type, 1) or '1type' as a synonym of type is deprecated; in a future version of numpy, it will be understood as (type, (1,)) / '(1,)type'.\n",
      "  _np_qint8 = np.dtype([(\"qint8\", np.int8, 1)])\n",
      "C:\\Users\\jmphe\\Anaconda3\\lib\\site-packages\\tensorflow\\python\\framework\\dtypes.py:517: FutureWarning: Passing (type, 1) or '1type' as a synonym of type is deprecated; in a future version of numpy, it will be understood as (type, (1,)) / '(1,)type'.\n",
      "  _np_quint8 = np.dtype([(\"quint8\", np.uint8, 1)])\n",
      "C:\\Users\\jmphe\\Anaconda3\\lib\\site-packages\\tensorflow\\python\\framework\\dtypes.py:518: FutureWarning: Passing (type, 1) or '1type' as a synonym of type is deprecated; in a future version of numpy, it will be understood as (type, (1,)) / '(1,)type'.\n",
      "  _np_qint16 = np.dtype([(\"qint16\", np.int16, 1)])\n",
      "C:\\Users\\jmphe\\Anaconda3\\lib\\site-packages\\tensorflow\\python\\framework\\dtypes.py:519: FutureWarning: Passing (type, 1) or '1type' as a synonym of type is deprecated; in a future version of numpy, it will be understood as (type, (1,)) / '(1,)type'.\n",
      "  _np_quint16 = np.dtype([(\"quint16\", np.uint16, 1)])\n",
      "C:\\Users\\jmphe\\Anaconda3\\lib\\site-packages\\tensorflow\\python\\framework\\dtypes.py:520: FutureWarning: Passing (type, 1) or '1type' as a synonym of type is deprecated; in a future version of numpy, it will be understood as (type, (1,)) / '(1,)type'.\n",
      "  _np_qint32 = np.dtype([(\"qint32\", np.int32, 1)])\n",
      "C:\\Users\\jmphe\\Anaconda3\\lib\\site-packages\\tensorflow\\python\\framework\\dtypes.py:525: FutureWarning: Passing (type, 1) or '1type' as a synonym of type is deprecated; in a future version of numpy, it will be understood as (type, (1,)) / '(1,)type'.\n",
      "  np_resource = np.dtype([(\"resource\", np.ubyte, 1)])\n",
      "WARNING:root:Limited tf.compat.v2.summary API due to missing TensorBoard installation.\n"
     ]
    }
   ],
   "source": [
    "import numpy as np\n",
    "import pandas as pd\n",
    "import seaborn as sns\n",
    "import matplotlib.pyplot as plt\n",
    "import math\n",
    "from sklearn.preprocessing import MinMaxScaler\n",
    "from tensorflow.keras.layers import Dense, LSTM\n",
    "from tensorflow.keras.models import Sequential"
   ]
  },
  {
   "cell_type": "code",
   "execution_count": 2,
   "metadata": {},
   "outputs": [],
   "source": [
    "nifty_data = pd.read_csv('Dataset/HDFC.csv')"
   ]
  },
  {
   "cell_type": "code",
   "execution_count": 3,
   "metadata": {},
   "outputs": [
    {
     "data": {
      "text/html": [
       "<div>\n",
       "<style scoped>\n",
       "    .dataframe tbody tr th:only-of-type {\n",
       "        vertical-align: middle;\n",
       "    }\n",
       "\n",
       "    .dataframe tbody tr th {\n",
       "        vertical-align: top;\n",
       "    }\n",
       "\n",
       "    .dataframe thead th {\n",
       "        text-align: right;\n",
       "    }\n",
       "</style>\n",
       "<table border=\"1\" class=\"dataframe\">\n",
       "  <thead>\n",
       "    <tr style=\"text-align: right;\">\n",
       "      <th></th>\n",
       "      <th>Date</th>\n",
       "      <th>Symbol</th>\n",
       "      <th>Series</th>\n",
       "      <th>Prev Close</th>\n",
       "      <th>Open</th>\n",
       "      <th>High</th>\n",
       "      <th>Low</th>\n",
       "      <th>Last</th>\n",
       "      <th>Close</th>\n",
       "      <th>VWAP</th>\n",
       "      <th>Volume</th>\n",
       "      <th>Turnover</th>\n",
       "      <th>Trades</th>\n",
       "      <th>Deliverable Volume</th>\n",
       "      <th>%Deliverble</th>\n",
       "    </tr>\n",
       "  </thead>\n",
       "  <tbody>\n",
       "    <tr>\n",
       "      <th>0</th>\n",
       "      <td>2000-01-03</td>\n",
       "      <td>HDFC</td>\n",
       "      <td>EQ</td>\n",
       "      <td>271.75</td>\n",
       "      <td>293.5</td>\n",
       "      <td>293.50</td>\n",
       "      <td>293.5</td>\n",
       "      <td>293.5</td>\n",
       "      <td>293.50</td>\n",
       "      <td>293.50</td>\n",
       "      <td>22744</td>\n",
       "      <td>6.675364e+11</td>\n",
       "      <td>NaN</td>\n",
       "      <td>NaN</td>\n",
       "      <td>NaN</td>\n",
       "    </tr>\n",
       "    <tr>\n",
       "      <th>1</th>\n",
       "      <td>2000-01-04</td>\n",
       "      <td>HDFC</td>\n",
       "      <td>EQ</td>\n",
       "      <td>293.50</td>\n",
       "      <td>317.0</td>\n",
       "      <td>317.00</td>\n",
       "      <td>297.0</td>\n",
       "      <td>304.0</td>\n",
       "      <td>304.05</td>\n",
       "      <td>303.62</td>\n",
       "      <td>255251</td>\n",
       "      <td>7.749972e+12</td>\n",
       "      <td>NaN</td>\n",
       "      <td>NaN</td>\n",
       "      <td>NaN</td>\n",
       "    </tr>\n",
       "    <tr>\n",
       "      <th>2</th>\n",
       "      <td>2000-01-05</td>\n",
       "      <td>HDFC</td>\n",
       "      <td>EQ</td>\n",
       "      <td>304.05</td>\n",
       "      <td>290.0</td>\n",
       "      <td>303.90</td>\n",
       "      <td>285.0</td>\n",
       "      <td>295.0</td>\n",
       "      <td>292.80</td>\n",
       "      <td>294.53</td>\n",
       "      <td>269087</td>\n",
       "      <td>7.925368e+12</td>\n",
       "      <td>NaN</td>\n",
       "      <td>NaN</td>\n",
       "      <td>NaN</td>\n",
       "    </tr>\n",
       "    <tr>\n",
       "      <th>3</th>\n",
       "      <td>2000-01-06</td>\n",
       "      <td>HDFC</td>\n",
       "      <td>EQ</td>\n",
       "      <td>292.80</td>\n",
       "      <td>301.0</td>\n",
       "      <td>314.00</td>\n",
       "      <td>295.0</td>\n",
       "      <td>296.0</td>\n",
       "      <td>296.45</td>\n",
       "      <td>300.14</td>\n",
       "      <td>305916</td>\n",
       "      <td>9.181669e+12</td>\n",
       "      <td>NaN</td>\n",
       "      <td>NaN</td>\n",
       "      <td>NaN</td>\n",
       "    </tr>\n",
       "    <tr>\n",
       "      <th>4</th>\n",
       "      <td>2000-01-07</td>\n",
       "      <td>HDFC</td>\n",
       "      <td>EQ</td>\n",
       "      <td>296.45</td>\n",
       "      <td>290.0</td>\n",
       "      <td>296.35</td>\n",
       "      <td>281.0</td>\n",
       "      <td>287.1</td>\n",
       "      <td>286.55</td>\n",
       "      <td>288.80</td>\n",
       "      <td>197039</td>\n",
       "      <td>5.690480e+12</td>\n",
       "      <td>NaN</td>\n",
       "      <td>NaN</td>\n",
       "      <td>NaN</td>\n",
       "    </tr>\n",
       "  </tbody>\n",
       "</table>\n",
       "</div>"
      ],
      "text/plain": [
       "         Date Symbol Series  Prev Close   Open    High    Low   Last   Close  \\\n",
       "0  2000-01-03   HDFC     EQ      271.75  293.5  293.50  293.5  293.5  293.50   \n",
       "1  2000-01-04   HDFC     EQ      293.50  317.0  317.00  297.0  304.0  304.05   \n",
       "2  2000-01-05   HDFC     EQ      304.05  290.0  303.90  285.0  295.0  292.80   \n",
       "3  2000-01-06   HDFC     EQ      292.80  301.0  314.00  295.0  296.0  296.45   \n",
       "4  2000-01-07   HDFC     EQ      296.45  290.0  296.35  281.0  287.1  286.55   \n",
       "\n",
       "     VWAP  Volume      Turnover  Trades  Deliverable Volume  %Deliverble  \n",
       "0  293.50   22744  6.675364e+11     NaN                 NaN          NaN  \n",
       "1  303.62  255251  7.749972e+12     NaN                 NaN          NaN  \n",
       "2  294.53  269087  7.925368e+12     NaN                 NaN          NaN  \n",
       "3  300.14  305916  9.181669e+12     NaN                 NaN          NaN  \n",
       "4  288.80  197039  5.690480e+12     NaN                 NaN          NaN  "
      ]
     },
     "execution_count": 3,
     "metadata": {},
     "output_type": "execute_result"
    }
   ],
   "source": [
    "nifty_data.head()"
   ]
  },
  {
   "cell_type": "code",
   "execution_count": 4,
   "metadata": {},
   "outputs": [
    {
     "data": {
      "text/html": [
       "<div>\n",
       "<style scoped>\n",
       "    .dataframe tbody tr th:only-of-type {\n",
       "        vertical-align: middle;\n",
       "    }\n",
       "\n",
       "    .dataframe tbody tr th {\n",
       "        vertical-align: top;\n",
       "    }\n",
       "\n",
       "    .dataframe thead th {\n",
       "        text-align: right;\n",
       "    }\n",
       "</style>\n",
       "<table border=\"1\" class=\"dataframe\">\n",
       "  <thead>\n",
       "    <tr style=\"text-align: right;\">\n",
       "      <th></th>\n",
       "      <th>Date</th>\n",
       "      <th>Symbol</th>\n",
       "      <th>Series</th>\n",
       "      <th>Prev Close</th>\n",
       "      <th>Open</th>\n",
       "      <th>High</th>\n",
       "      <th>Low</th>\n",
       "      <th>Last</th>\n",
       "      <th>Close</th>\n",
       "      <th>VWAP</th>\n",
       "      <th>Volume</th>\n",
       "      <th>Turnover</th>\n",
       "      <th>Trades</th>\n",
       "      <th>Deliverable Volume</th>\n",
       "      <th>%Deliverble</th>\n",
       "    </tr>\n",
       "  </thead>\n",
       "  <tbody>\n",
       "    <tr>\n",
       "      <th>5301</th>\n",
       "      <td>2021-04-26</td>\n",
       "      <td>HDFC</td>\n",
       "      <td>EQ</td>\n",
       "      <td>2497.35</td>\n",
       "      <td>2500.00</td>\n",
       "      <td>2534.1</td>\n",
       "      <td>2483.20</td>\n",
       "      <td>2502.00</td>\n",
       "      <td>2509.80</td>\n",
       "      <td>2508.07</td>\n",
       "      <td>3916088</td>\n",
       "      <td>9.821805e+14</td>\n",
       "      <td>121028.0</td>\n",
       "      <td>2440395.0</td>\n",
       "      <td>0.6232</td>\n",
       "    </tr>\n",
       "    <tr>\n",
       "      <th>5302</th>\n",
       "      <td>2021-04-27</td>\n",
       "      <td>HDFC</td>\n",
       "      <td>EQ</td>\n",
       "      <td>2509.80</td>\n",
       "      <td>2494.15</td>\n",
       "      <td>2526.8</td>\n",
       "      <td>2486.25</td>\n",
       "      <td>2514.00</td>\n",
       "      <td>2518.40</td>\n",
       "      <td>2509.18</td>\n",
       "      <td>2040799</td>\n",
       "      <td>5.120730e+14</td>\n",
       "      <td>102250.0</td>\n",
       "      <td>1040749.0</td>\n",
       "      <td>0.5100</td>\n",
       "    </tr>\n",
       "    <tr>\n",
       "      <th>5303</th>\n",
       "      <td>2021-04-28</td>\n",
       "      <td>HDFC</td>\n",
       "      <td>EQ</td>\n",
       "      <td>2518.40</td>\n",
       "      <td>2516.10</td>\n",
       "      <td>2609.0</td>\n",
       "      <td>2508.30</td>\n",
       "      <td>2575.00</td>\n",
       "      <td>2577.00</td>\n",
       "      <td>2574.21</td>\n",
       "      <td>3407461</td>\n",
       "      <td>8.771527e+14</td>\n",
       "      <td>117425.0</td>\n",
       "      <td>1815110.0</td>\n",
       "      <td>0.5327</td>\n",
       "    </tr>\n",
       "    <tr>\n",
       "      <th>5304</th>\n",
       "      <td>2021-04-29</td>\n",
       "      <td>HDFC</td>\n",
       "      <td>EQ</td>\n",
       "      <td>2577.00</td>\n",
       "      <td>2590.90</td>\n",
       "      <td>2628.0</td>\n",
       "      <td>2533.00</td>\n",
       "      <td>2539.70</td>\n",
       "      <td>2538.85</td>\n",
       "      <td>2569.65</td>\n",
       "      <td>3005468</td>\n",
       "      <td>7.722995e+14</td>\n",
       "      <td>132826.0</td>\n",
       "      <td>1472924.0</td>\n",
       "      <td>0.4901</td>\n",
       "    </tr>\n",
       "    <tr>\n",
       "      <th>5305</th>\n",
       "      <td>2021-04-30</td>\n",
       "      <td>HDFC</td>\n",
       "      <td>EQ</td>\n",
       "      <td>2538.85</td>\n",
       "      <td>2503.10</td>\n",
       "      <td>2525.0</td>\n",
       "      <td>2411.10</td>\n",
       "      <td>2433.25</td>\n",
       "      <td>2420.10</td>\n",
       "      <td>2445.94</td>\n",
       "      <td>6024595</td>\n",
       "      <td>1.473581e+15</td>\n",
       "      <td>224454.0</td>\n",
       "      <td>3839105.0</td>\n",
       "      <td>0.6372</td>\n",
       "    </tr>\n",
       "  </tbody>\n",
       "</table>\n",
       "</div>"
      ],
      "text/plain": [
       "            Date Symbol Series  Prev Close     Open    High      Low     Last  \\\n",
       "5301  2021-04-26   HDFC     EQ     2497.35  2500.00  2534.1  2483.20  2502.00   \n",
       "5302  2021-04-27   HDFC     EQ     2509.80  2494.15  2526.8  2486.25  2514.00   \n",
       "5303  2021-04-28   HDFC     EQ     2518.40  2516.10  2609.0  2508.30  2575.00   \n",
       "5304  2021-04-29   HDFC     EQ     2577.00  2590.90  2628.0  2533.00  2539.70   \n",
       "5305  2021-04-30   HDFC     EQ     2538.85  2503.10  2525.0  2411.10  2433.25   \n",
       "\n",
       "        Close     VWAP   Volume      Turnover    Trades  Deliverable Volume  \\\n",
       "5301  2509.80  2508.07  3916088  9.821805e+14  121028.0           2440395.0   \n",
       "5302  2518.40  2509.18  2040799  5.120730e+14  102250.0           1040749.0   \n",
       "5303  2577.00  2574.21  3407461  8.771527e+14  117425.0           1815110.0   \n",
       "5304  2538.85  2569.65  3005468  7.722995e+14  132826.0           1472924.0   \n",
       "5305  2420.10  2445.94  6024595  1.473581e+15  224454.0           3839105.0   \n",
       "\n",
       "      %Deliverble  \n",
       "5301       0.6232  \n",
       "5302       0.5100  \n",
       "5303       0.5327  \n",
       "5304       0.4901  \n",
       "5305       0.6372  "
      ]
     },
     "execution_count": 4,
     "metadata": {},
     "output_type": "execute_result"
    }
   ],
   "source": [
    "nifty_data.tail()"
   ]
  },
  {
   "cell_type": "code",
   "execution_count": 5,
   "metadata": {},
   "outputs": [
    {
     "data": {
      "text/plain": [
       "(5306, 15)"
      ]
     },
     "execution_count": 5,
     "metadata": {},
     "output_type": "execute_result"
    }
   ],
   "source": [
    "nifty_data.shape"
   ]
  },
  {
   "cell_type": "code",
   "execution_count": 6,
   "metadata": {},
   "outputs": [
    {
     "data": {
      "text/html": [
       "<div>\n",
       "<style scoped>\n",
       "    .dataframe tbody tr th:only-of-type {\n",
       "        vertical-align: middle;\n",
       "    }\n",
       "\n",
       "    .dataframe tbody tr th {\n",
       "        vertical-align: top;\n",
       "    }\n",
       "\n",
       "    .dataframe thead th {\n",
       "        text-align: right;\n",
       "    }\n",
       "</style>\n",
       "<table border=\"1\" class=\"dataframe\">\n",
       "  <thead>\n",
       "    <tr style=\"text-align: right;\">\n",
       "      <th></th>\n",
       "      <th>Prev Close</th>\n",
       "      <th>Open</th>\n",
       "      <th>High</th>\n",
       "      <th>Low</th>\n",
       "      <th>Last</th>\n",
       "      <th>Close</th>\n",
       "      <th>VWAP</th>\n",
       "      <th>Volume</th>\n",
       "      <th>Turnover</th>\n",
       "      <th>Trades</th>\n",
       "      <th>Deliverable Volume</th>\n",
       "      <th>%Deliverble</th>\n",
       "    </tr>\n",
       "  </thead>\n",
       "  <tbody>\n",
       "    <tr>\n",
       "      <th>count</th>\n",
       "      <td>5306.000000</td>\n",
       "      <td>5306.000000</td>\n",
       "      <td>5306.000000</td>\n",
       "      <td>5306.000000</td>\n",
       "      <td>5306.000000</td>\n",
       "      <td>5306.000000</td>\n",
       "      <td>5306.000000</td>\n",
       "      <td>5.306000e+03</td>\n",
       "      <td>5.306000e+03</td>\n",
       "      <td>2456.000000</td>\n",
       "      <td>4.797000e+03</td>\n",
       "      <td>4797.000000</td>\n",
       "    </tr>\n",
       "    <tr>\n",
       "      <th>mean</th>\n",
       "      <td>1283.666114</td>\n",
       "      <td>1284.393074</td>\n",
       "      <td>1304.269732</td>\n",
       "      <td>1263.297842</td>\n",
       "      <td>1283.885017</td>\n",
       "      <td>1284.071005</td>\n",
       "      <td>1283.664578</td>\n",
       "      <td>1.848187e+06</td>\n",
       "      <td>2.620759e+14</td>\n",
       "      <td>102159.051303</td>\n",
       "      <td>1.329440e+06</td>\n",
       "      <td>0.653088</td>\n",
       "    </tr>\n",
       "    <tr>\n",
       "      <th>std</th>\n",
       "      <td>709.395090</td>\n",
       "      <td>709.703665</td>\n",
       "      <td>721.308080</td>\n",
       "      <td>697.450309</td>\n",
       "      <td>709.250204</td>\n",
       "      <td>709.430515</td>\n",
       "      <td>709.109622</td>\n",
       "      <td>2.991387e+06</td>\n",
       "      <td>3.607844e+14</td>\n",
       "      <td>57948.603200</td>\n",
       "      <td>2.555073e+06</td>\n",
       "      <td>0.128115</td>\n",
       "    </tr>\n",
       "    <tr>\n",
       "      <th>min</th>\n",
       "      <td>271.750000</td>\n",
       "      <td>284.000000</td>\n",
       "      <td>290.500000</td>\n",
       "      <td>273.250000</td>\n",
       "      <td>282.850000</td>\n",
       "      <td>283.850000</td>\n",
       "      <td>283.600000</td>\n",
       "      <td>2.919000e+03</td>\n",
       "      <td>1.834686e+11</td>\n",
       "      <td>973.000000</td>\n",
       "      <td>1.786000e+03</td>\n",
       "      <td>0.119000</td>\n",
       "    </tr>\n",
       "    <tr>\n",
       "      <th>25%</th>\n",
       "      <td>668.650000</td>\n",
       "      <td>669.712500</td>\n",
       "      <td>677.512500</td>\n",
       "      <td>660.000000</td>\n",
       "      <td>669.000000</td>\n",
       "      <td>668.662500</td>\n",
       "      <td>668.265000</td>\n",
       "      <td>3.034970e+05</td>\n",
       "      <td>2.461178e+13</td>\n",
       "      <td>62011.500000</td>\n",
       "      <td>2.688070e+05</td>\n",
       "      <td>0.575200</td>\n",
       "    </tr>\n",
       "    <tr>\n",
       "      <th>50%</th>\n",
       "      <td>1136.275000</td>\n",
       "      <td>1135.400000</td>\n",
       "      <td>1156.725000</td>\n",
       "      <td>1119.000000</td>\n",
       "      <td>1135.000000</td>\n",
       "      <td>1136.675000</td>\n",
       "      <td>1136.720000</td>\n",
       "      <td>1.337788e+06</td>\n",
       "      <td>1.684207e+14</td>\n",
       "      <td>90405.000000</td>\n",
       "      <td>1.021574e+06</td>\n",
       "      <td>0.666900</td>\n",
       "    </tr>\n",
       "    <tr>\n",
       "      <th>75%</th>\n",
       "      <td>1811.475000</td>\n",
       "      <td>1813.812500</td>\n",
       "      <td>1835.000000</td>\n",
       "      <td>1783.075000</td>\n",
       "      <td>1812.000000</td>\n",
       "      <td>1811.787500</td>\n",
       "      <td>1811.680000</td>\n",
       "      <td>2.732310e+06</td>\n",
       "      <td>3.419282e+14</td>\n",
       "      <td>129754.500000</td>\n",
       "      <td>1.939101e+06</td>\n",
       "      <td>0.742000</td>\n",
       "    </tr>\n",
       "    <tr>\n",
       "      <th>max</th>\n",
       "      <td>3180.150000</td>\n",
       "      <td>3148.000000</td>\n",
       "      <td>3262.000000</td>\n",
       "      <td>3100.550000</td>\n",
       "      <td>3178.000000</td>\n",
       "      <td>3180.150000</td>\n",
       "      <td>3166.580000</td>\n",
       "      <td>1.584141e+08</td>\n",
       "      <td>1.043773e+16</td>\n",
       "      <td>538170.000000</td>\n",
       "      <td>1.483131e+08</td>\n",
       "      <td>0.989400</td>\n",
       "    </tr>\n",
       "  </tbody>\n",
       "</table>\n",
       "</div>"
      ],
      "text/plain": [
       "        Prev Close         Open         High          Low         Last  \\\n",
       "count  5306.000000  5306.000000  5306.000000  5306.000000  5306.000000   \n",
       "mean   1283.666114  1284.393074  1304.269732  1263.297842  1283.885017   \n",
       "std     709.395090   709.703665   721.308080   697.450309   709.250204   \n",
       "min     271.750000   284.000000   290.500000   273.250000   282.850000   \n",
       "25%     668.650000   669.712500   677.512500   660.000000   669.000000   \n",
       "50%    1136.275000  1135.400000  1156.725000  1119.000000  1135.000000   \n",
       "75%    1811.475000  1813.812500  1835.000000  1783.075000  1812.000000   \n",
       "max    3180.150000  3148.000000  3262.000000  3100.550000  3178.000000   \n",
       "\n",
       "             Close         VWAP        Volume      Turnover         Trades  \\\n",
       "count  5306.000000  5306.000000  5.306000e+03  5.306000e+03    2456.000000   \n",
       "mean   1284.071005  1283.664578  1.848187e+06  2.620759e+14  102159.051303   \n",
       "std     709.430515   709.109622  2.991387e+06  3.607844e+14   57948.603200   \n",
       "min     283.850000   283.600000  2.919000e+03  1.834686e+11     973.000000   \n",
       "25%     668.662500   668.265000  3.034970e+05  2.461178e+13   62011.500000   \n",
       "50%    1136.675000  1136.720000  1.337788e+06  1.684207e+14   90405.000000   \n",
       "75%    1811.787500  1811.680000  2.732310e+06  3.419282e+14  129754.500000   \n",
       "max    3180.150000  3166.580000  1.584141e+08  1.043773e+16  538170.000000   \n",
       "\n",
       "       Deliverable Volume  %Deliverble  \n",
       "count        4.797000e+03  4797.000000  \n",
       "mean         1.329440e+06     0.653088  \n",
       "std          2.555073e+06     0.128115  \n",
       "min          1.786000e+03     0.119000  \n",
       "25%          2.688070e+05     0.575200  \n",
       "50%          1.021574e+06     0.666900  \n",
       "75%          1.939101e+06     0.742000  \n",
       "max          1.483131e+08     0.989400  "
      ]
     },
     "execution_count": 6,
     "metadata": {},
     "output_type": "execute_result"
    }
   ],
   "source": [
    "nifty_data.describe()"
   ]
  },
  {
   "cell_type": "code",
   "execution_count": 7,
   "metadata": {},
   "outputs": [
    {
     "data": {
      "text/plain": [
       "<matplotlib.axes._subplots.AxesSubplot at 0x252a3d2c708>"
      ]
     },
     "execution_count": 7,
     "metadata": {},
     "output_type": "execute_result"
    },
    {
     "data": {
      "image/png": "[encoded data removed]",
      "text/plain": [
       "<Figure size 432x288 with 1 Axes>"
      ]
     },
     "metadata": {
      "needs_background": "light"
     },
     "output_type": "display_data"
    }
   ],
   "source": [
    "nifty_data.boxplot()"
   ]
  },
  {
   "cell_type": "code",
   "execution_count": 8,
   "metadata": {},
   "outputs": [
    {
     "data": {
      "text/plain": [
       "array([[<matplotlib.axes._subplots.AxesSubplot object at 0x00000252A3CF6208>,\n",
       "        <matplotlib.axes._subplots.AxesSubplot object at 0x00000252A465EF08>,\n",
       "        <matplotlib.axes._subplots.AxesSubplot object at 0x00000252A469A508>],\n",
       "       [<matplotlib.axes._subplots.AxesSubplot object at 0x00000252A46D6108>,\n",
       "        <matplotlib.axes._subplots.AxesSubplot object at 0x00000252A4709CC8>,\n",
       "        <matplotlib.axes._subplots.AxesSubplot object at 0x00000252A47448C8>],\n",
       "       [<matplotlib.axes._subplots.AxesSubplot object at 0x00000252A477D4C8>,\n",
       "        <matplotlib.axes._subplots.AxesSubplot object at 0x00000252A47B8108>,\n",
       "        <matplotlib.axes._subplots.AxesSubplot object at 0x00000252A47BDBC8>],\n",
       "       [<matplotlib.axes._subplots.AxesSubplot object at 0x00000252A47F7888>,\n",
       "        <matplotlib.axes._subplots.AxesSubplot object at 0x00000252A4860508>,\n",
       "        <matplotlib.axes._subplots.AxesSubplot object at 0x00000252A3BD6408>]],\n",
       "      dtype=object)"
      ]
     },
     "execution_count": 8,
     "metadata": {},
     "output_type": "execute_result"
    },
    {
     "data": {
      "image/png": "[encoded data removed]",
      "text/plain": [
       "<Figure size 432x288 with 12 Axes>"
      ]
     },
     "metadata": {
      "needs_background": "light"
     },
     "output_type": "display_data"
    }
   ],
   "source": [
    "nifty_data.hist()"
   ]
  },
  {
   "cell_type": "code",
   "execution_count": 9,
   "metadata": {},
   "outputs": [
    {
     "name": "stdout",
     "output_type": "stream",
     "text": [
      "<class 'pandas.core.frame.DataFrame'>\n",
      "RangeIndex: 5306 entries, 0 to 5305\n",
      "Data columns (total 15 columns):\n",
      " #   Column              Non-Null Count  Dtype  \n",
      "---  ------              --------------  -----  \n",
      " 0   Date                5306 non-null   object \n",
      " 1   Symbol              5306 non-null   object \n",
      " 2   Series              5306 non-null   object \n",
      " 3   Prev Close          5306 non-null   float64\n",
      " 4   Open                5306 non-null   float64\n",
      " 5   High                5306 non-null   float64\n",
      " 6   Low                 5306 non-null   float64\n",
      " 7   Last                5306 non-null   float64\n",
      " 8   Close               5306 non-null   float64\n",
      " 9   VWAP                5306 non-null   float64\n",
      " 10  Volume              5306 non-null   int64  \n",
      " 11  Turnover            5306 non-null   float64\n",
      " 12  Trades              2456 non-null   float64\n",
      " 13  Deliverable Volume  4797 non-null   float64\n",
      " 14  %Deliverble         4797 non-null   float64\n",
      "dtypes: float64(11), int64(1), object(3)\n",
      "memory usage: 621.9+ KB\n"
     ]
    }
   ],
   "source": [
    "nifty_data.info()"
   ]
  },
  {
   "cell_type": "code",
   "execution_count": 10,
   "metadata": {},
   "outputs": [
    {
     "data": {
      "text/plain": [
       "Date                     0\n",
       "Symbol                   0\n",
       "Series                   0\n",
       "Prev Close               0\n",
       "Open                     0\n",
       "High                     0\n",
       "Low                      0\n",
       "Last                     0\n",
       "Close                    0\n",
       "VWAP                     0\n",
       "Volume                   0\n",
       "Turnover                 0\n",
       "Trades                2850\n",
       "Deliverable Volume     509\n",
       "%Deliverble            509\n",
       "dtype: int64"
      ]
     },
     "execution_count": 10,
     "metadata": {},
     "output_type": "execute_result"
    }
   ],
   "source": [
    "nifty_data.isnull().sum()"
   ]
  },
  {
   "cell_type": "code",
   "execution_count": 11,
   "metadata": {},
   "outputs": [
    {
     "data": {
      "image/png": "[encoded data removed]",
      "text/plain": [
       "<Figure size 1152x576 with 1 Axes>"
      ]
     },
     "metadata": {
      "needs_background": "light"
     },
     "output_type": "display_data"
    }
   ],
   "source": [
    "plt.figure(figsize=(16,8))\n",
    "plt.title('Close Price History')\n",
    "plt.plot(nifty_data.Close)\n",
    "plt.show()\n"
   ]
  },
  {
   "cell_type": "code",
   "execution_count": 12,
   "metadata": {},
   "outputs": [
    {
     "data": {
      "text/plain": [
       "4245"
      ]
     },
     "execution_count": 12,
     "metadata": {},
     "output_type": "execute_result"
    }
   ],
   "source": [
    "data = nifty_data.filter(['Close'])\n",
    "dataset = data.values\n",
    "training_data_len = math.ceil(len(dataset)*.8)\n",
    "training_data_len"
   ]
  },
  {
   "cell_type": "code",
   "execution_count": 13,
   "metadata": {},
   "outputs": [
    {
     "data": {
      "text/plain": [
       "array([[0.00333184],\n",
       "       [0.00697442],\n",
       "       [0.00309015],\n",
       "       ...,\n",
       "       [0.79175155],\n",
       "       [0.77857957],\n",
       "       [0.73757898]])"
      ]
     },
     "execution_count": 13,
     "metadata": {},
     "output_type": "execute_result"
    }
   ],
   "source": [
    "#Scaling the data\n",
    "\n",
    "scaler = MinMaxScaler(feature_range=(0,1))\n",
    "scaled_data = scaler.fit_transform(dataset)\n",
    "\n",
    "scaled_data"
   ]
  },
  {
   "cell_type": "code",
   "execution_count": 14,
   "metadata": {},
   "outputs": [
    {
     "data": {
      "text/plain": [
       "array([[0.00333184],\n",
       "       [0.00697442],\n",
       "       [0.00309015],\n",
       "       ...,\n",
       "       [0.79175155],\n",
       "       [0.77857957],\n",
       "       [0.73757898]])"
      ]
     },
     "execution_count": 14,
     "metadata": {},
     "output_type": "execute_result"
    }
   ],
   "source": [
    "#Scaling the data\n",
    "\n",
    "scaler = MinMaxScaler(feature_range=(0,1))\n",
    "scaled_data = scaler.fit_transform(dataset)\n",
    "\n",
    "scaled_data"
   ]
  },
  {
   "cell_type": "code",
   "execution_count": 15,
   "metadata": {},
   "outputs": [
    {
     "data": {
      "text/plain": [
       "array([[0.00333184],\n",
       "       [0.00697442],\n",
       "       [0.00309015],\n",
       "       ...,\n",
       "       [0.79175155],\n",
       "       [0.77857957],\n",
       "       [0.73757898]])"
      ]
     },
     "execution_count": 15,
     "metadata": {},
     "output_type": "execute_result"
    }
   ],
   "source": [
    "#Scaling the data\n",
    "\n",
    "scaler = MinMaxScaler(feature_range=(0,1))\n",
    "scaled_data = scaler.fit_transform(dataset)\n",
    "\n",
    "scaled_data"
   ]
  },
  {
   "cell_type": "code",
   "execution_count": 16,
   "metadata": {},
   "outputs": [
    {
     "data": {
      "text/plain": [
       "array([[0.00333184],\n",
       "       [0.00697442],\n",
       "       [0.00309015],\n",
       "       ...,\n",
       "       [0.79175155],\n",
       "       [0.77857957],\n",
       "       [0.73757898]])"
      ]
     },
     "execution_count": 16,
     "metadata": {},
     "output_type": "execute_result"
    }
   ],
   "source": [
    "#Scaling the data\n",
    "\n",
    "scaler = MinMaxScaler(feature_range=(0,1))\n",
    "scaled_data = scaler.fit_transform(dataset)\n",
    "\n",
    "scaled_data"
   ]
  },
  {
   "cell_type": "code",
   "execution_count": null,
   "metadata": {},
   "outputs": [],
   "source": []
  },
  {
   "cell_type": "code",
   "execution_count": 17,
   "metadata": {},
   "outputs": [
    {
     "name": "stdout",
     "output_type": "stream",
     "text": [
      "[array([0.00333184, 0.00697442, 0.00309015, 0.00435038, 0.00093222,\n",
      "       0.00115665, 0.        , 0.00060422, 0.        , 0.00093222,\n",
      "       0.00633567, 0.00756137, 0.00738874, 0.00258951, 0.00542071,\n",
      "       0.00317647, 0.00666367, 0.01130753, 0.01400062, 0.01714256,\n",
      "       0.02302938, 0.02332286, 0.02004281, 0.02532542, 0.0247212 ,\n",
      "       0.02301212, 0.01564064, 0.01260229, 0.02064703, 0.02599869,\n",
      "       0.01683182, 0.01993923, 0.01911059, 0.01520906, 0.01218796,\n",
      "       0.00763043, 0.01608949, 0.02342644, 0.03314574, 0.04345199,\n",
      "       0.04068985, 0.05179022, 0.06378828, 0.06532472, 0.05512205,\n",
      "       0.04431516, 0.04586887, 0.03996478, 0.03925698, 0.03374996,\n",
      "       0.03894624, 0.04027552, 0.03948141, 0.04229534, 0.04467769,\n",
      "       0.04350378, 0.04590339, 0.04611055, 0.04448779, 0.03330111])]\n",
      "[0.027621448054414258]\n",
      "\n"
     ]
    }
   ],
   "source": [
    "train_data = scaled_data[0:training_data_len, :]\n",
    "#spliting \n",
    "x_train = []\n",
    "y_train = []\n",
    "\n",
    "for i in range(60, len(train_data)):\n",
    "    x_train.append(train_data[i-60:i,0])  \n",
    "    y_train.append(train_data[i,0])\n",
    "    if i<= 60:\n",
    "        print(x_train)\n",
    "        print(y_train)\n",
    "        print()\n",
    "\n",
    "    "
   ]
  },
  {
   "cell_type": "code",
   "execution_count": 18,
   "metadata": {},
   "outputs": [],
   "source": [
    "x_train, y_train = np.array(x_train), np.array(y_train)"
   ]
  },
  {
   "cell_type": "code",
   "execution_count": 19,
   "metadata": {},
   "outputs": [
    {
     "data": {
      "text/plain": [
       "(4185, 60, 1)"
      ]
     },
     "execution_count": 19,
     "metadata": {},
     "output_type": "execute_result"
    }
   ],
   "source": [
    "#reshape data\n",
    "x_train = np.reshape(x_train, (x_train.shape[0], x_train.shape[1], 1))\n",
    "x_train.shape"
   ]
  },
  {
   "cell_type": "code",
   "execution_count": 20,
   "metadata": {},
   "outputs": [
    {
     "name": "stdout",
     "output_type": "stream",
     "text": [
      "WARNING:tensorflow:From C:\\Users\\jmphe\\Anaconda3\\lib\\site-packages\\tensorflow\\python\\ops\\init_ops.py:1251: calling VarianceScaling.__init__ (from tensorflow.python.ops.init_ops) with dtype is deprecated and will be removed in a future version.\n",
      "Instructions for updating:\n",
      "Call initializer instance with the dtype argument instead of passing it to the constructor\n"
     ]
    },
    {
     "name": "stderr",
     "output_type": "stream",
     "text": [
      "WARNING:tensorflow:From C:\\Users\\jmphe\\Anaconda3\\lib\\site-packages\\tensorflow\\python\\ops\\init_ops.py:1251: calling VarianceScaling.__init__ (from tensorflow.python.ops.init_ops) with dtype is deprecated and will be removed in a future version.\n",
      "Instructions for updating:\n",
      "Call initializer instance with the dtype argument instead of passing it to the constructor\n"
     ]
    }
   ],
   "source": [
    "#build LSTM model\n",
    "model = Sequential()\n",
    "model.add(LSTM(50, return_sequences = True, input_shape = (x_train.shape[1],1)))\n",
    "model.add(LSTM(50, return_sequences = False))\n",
    "model.add(Dense(25))\n",
    "model.add(Dense(1))"
   ]
  },
  {
   "cell_type": "code",
   "execution_count": 21,
   "metadata": {},
   "outputs": [],
   "source": [
    "model.compile(optimizer = 'adam', loss = 'mean_squared_error')"
   ]
  },
  {
   "cell_type": "code",
   "execution_count": 22,
   "metadata": {},
   "outputs": [
    {
     "name": "stdout",
     "output_type": "stream",
     "text": [
      "WARNING:tensorflow:From C:\\Users\\jmphe\\Anaconda3\\lib\\site-packages\\tensorflow\\python\\ops\\math_grad.py:1250: add_dispatch_support.<locals>.wrapper (from tensorflow.python.ops.array_ops) is deprecated and will be removed in a future version.\n",
      "Instructions for updating:\n",
      "Use tf.where in 2.0, which has the same broadcast rule as np.where\n"
     ]
    },
    {
     "name": "stderr",
     "output_type": "stream",
     "text": [
      "WARNING:tensorflow:From C:\\Users\\jmphe\\Anaconda3\\lib\\site-packages\\tensorflow\\python\\ops\\math_grad.py:1250: add_dispatch_support.<locals>.wrapper (from tensorflow.python.ops.array_ops) is deprecated and will be removed in a future version.\n",
      "Instructions for updating:\n",
      "Use tf.where in 2.0, which has the same broadcast rule as np.where\n"
     ]
    },
    {
     "name": "stdout",
     "output_type": "stream",
     "text": [
      "4185/4185 [==============================] - 395s 94ms/sample - loss: 0.0019\n"
     ]
    },
    {
     "data": {
      "text/plain": [
       "<tensorflow.python.keras.callbacks.History at 0x252a6644a88>"
      ]
     },
     "execution_count": 22,
     "metadata": {},
     "output_type": "execute_result"
    }
   ],
   "source": [
    "#train model\n",
    "model.fit(x_train, y_train, batch_size = 1, epochs = 1)"
   ]
  },
  {
   "cell_type": "code",
   "execution_count": 23,
   "metadata": {},
   "outputs": [],
   "source": [
    "test_data = scaled_data[training_data_len - 60: , :]\n",
    "x_test = []\n",
    "y_test = dataset[training_data_len:, :]\n",
    "for i in range(60, len(test_data)):\n",
    "    x_test.append(test_data[i-60:i, 0])\n"
   ]
  },
  {
   "cell_type": "code",
   "execution_count": 24,
   "metadata": {},
   "outputs": [],
   "source": [
    "x_test = np.array(x_test)\n",
    "x_test = np.reshape(x_test, (x_test.shape[0], x_test.shape[1], 1))"
   ]
  },
  {
   "cell_type": "code",
   "execution_count": 25,
   "metadata": {},
   "outputs": [],
   "source": [
    "predictions = model.predict(x_test)\n",
    "predictions = scaler.inverse_transform(predictions)"
   ]
  },
  {
   "cell_type": "code",
   "execution_count": 26,
   "metadata": {},
   "outputs": [
    {
     "data": {
      "text/plain": [
       "12.103705553060204"
      ]
     },
     "execution_count": 26,
     "metadata": {},
     "output_type": "execute_result"
    }
   ],
   "source": [
    "rmse = np.sqrt(np.mean(predictions - y_test)**2)\n",
    "rmse"
   ]
  },
  {
   "cell_type": "code",
   "execution_count": 27,
   "metadata": {},
   "outputs": [
    {
     "name": "stderr",
     "output_type": "stream",
     "text": [
      "C:\\Users\\jmphe\\Anaconda3\\lib\\site-packages\\ipykernel_launcher.py:3: SettingWithCopyWarning: \n",
      "A value is trying to be set on a copy of a slice from a DataFrame.\n",
      "Try using .loc[row_indexer,col_indexer] = value instead\n",
      "\n",
      "See the caveats in the documentation: https://pandas.pydata.org/pandas-docs/stable/user_guide/indexing.html#returning-a-view-versus-a-copy\n",
      "  This is separate from the ipykernel package so we can avoid doing imports until\n"
     ]
    },
    {
     "data": {
      "image/png": "[encoded data removed]",
      "text/plain": [
       "<Figure size 1152x576 with 1 Axes>"
      ]
     },
     "metadata": {
      "needs_background": "light"
     },
     "output_type": "display_data"
    }
   ],
   "source": [
    "train = data[:training_data_len]\n",
    "valid = data[training_data_len:]\n",
    "valid['predictions'] = predictions\n",
    "plt.figure(figsize = (16, 8))\n",
    "plt.title('HDFC Model')\n",
    "plt.plot(train['Close'])\n",
    "plt.plot(valid[['Close', 'predictions']])\n",
    "plt.legend(['Trained','Actual Value', 'Predictions' ], loc= 'lower right')\n",
    "plt.show()"
   ]
  },
  {
   "cell_type": "code",
   "execution_count": 28,
   "metadata": {},
   "outputs": [
    {
     "data": {
      "text/html": [
       "<div>\n",
       "<style scoped>\n",
       "    .dataframe tbody tr th:only-of-type {\n",
       "        vertical-align: middle;\n",
       "    }\n",
       "\n",
       "    .dataframe tbody tr th {\n",
       "        vertical-align: top;\n",
       "    }\n",
       "\n",
       "    .dataframe thead th {\n",
       "        text-align: right;\n",
       "    }\n",
       "</style>\n",
       "<table border=\"1\" class=\"dataframe\">\n",
       "  <thead>\n",
       "    <tr style=\"text-align: right;\">\n",
       "      <th></th>\n",
       "      <th>Close</th>\n",
       "      <th>predictions</th>\n",
       "    </tr>\n",
       "  </thead>\n",
       "  <tbody>\n",
       "    <tr>\n",
       "      <th>4245</th>\n",
       "      <td>1256.90</td>\n",
       "      <td>1213.528687</td>\n",
       "    </tr>\n",
       "    <tr>\n",
       "      <th>4246</th>\n",
       "      <td>1245.80</td>\n",
       "      <td>1224.696289</td>\n",
       "    </tr>\n",
       "    <tr>\n",
       "      <th>4247</th>\n",
       "      <td>1249.05</td>\n",
       "      <td>1227.519287</td>\n",
       "    </tr>\n",
       "    <tr>\n",
       "      <th>4248</th>\n",
       "      <td>1242.40</td>\n",
       "      <td>1228.203735</td>\n",
       "    </tr>\n",
       "    <tr>\n",
       "      <th>4249</th>\n",
       "      <td>1237.30</td>\n",
       "      <td>1225.341797</td>\n",
       "    </tr>\n",
       "    <tr>\n",
       "      <th>...</th>\n",
       "      <td>...</td>\n",
       "      <td>...</td>\n",
       "    </tr>\n",
       "    <tr>\n",
       "      <th>5301</th>\n",
       "      <td>2509.80</td>\n",
       "      <td>2467.911621</td>\n",
       "    </tr>\n",
       "    <tr>\n",
       "      <th>5302</th>\n",
       "      <td>2518.40</td>\n",
       "      <td>2487.407471</td>\n",
       "    </tr>\n",
       "    <tr>\n",
       "      <th>5303</th>\n",
       "      <td>2577.00</td>\n",
       "      <td>2504.262451</td>\n",
       "    </tr>\n",
       "    <tr>\n",
       "      <th>5304</th>\n",
       "      <td>2538.85</td>\n",
       "      <td>2539.712158</td>\n",
       "    </tr>\n",
       "    <tr>\n",
       "      <th>5305</th>\n",
       "      <td>2420.10</td>\n",
       "      <td>2544.506592</td>\n",
       "    </tr>\n",
       "  </tbody>\n",
       "</table>\n",
       "<p>1061 rows × 2 columns</p>\n",
       "</div>"
      ],
      "text/plain": [
       "        Close  predictions\n",
       "4245  1256.90  1213.528687\n",
       "4246  1245.80  1224.696289\n",
       "4247  1249.05  1227.519287\n",
       "4248  1242.40  1228.203735\n",
       "4249  1237.30  1225.341797\n",
       "...       ...          ...\n",
       "5301  2509.80  2467.911621\n",
       "5302  2518.40  2487.407471\n",
       "5303  2577.00  2504.262451\n",
       "5304  2538.85  2539.712158\n",
       "5305  2420.10  2544.506592\n",
       "\n",
       "[1061 rows x 2 columns]"
      ]
     },
     "execution_count": 28,
     "metadata": {},
     "output_type": "execute_result"
    }
   ],
   "source": [
    "valid"
   ]
  },
  {
   "cell_type": "code",
   "execution_count": null,
   "metadata": {},
   "outputs": [],
   "source": []
  }
 ],
 "metadata": {
  "kernelspec": {
   "display_name": "Python 3",
   "language": "python",
   "name": "python3"
  },
  "language_info": {
   "codemirror_mode": {
    "name": "ipython",
    "version": 3
   },
   "file_extension": ".py",
   "mimetype": "text/x-python",
   "name": "python",
   "nbconvert_exporter": "python",
   "pygments_lexer": "ipython3",
   "version": "3.7.6"
  }
 },
 "nbformat": 4,
 "nbformat_minor": 2
}
